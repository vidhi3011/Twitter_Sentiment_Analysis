{
  "nbformat": 4,
  "nbformat_minor": 0,
  "metadata": {
    "colab": {
      "name": "Copy of TwitterSentimentAnalysis.ipynb",
      "provenance": [],
      "collapsed_sections": []
    },
    "kernelspec": {
      "name": "python3",
      "display_name": "Python 3"
    }
  },
  "cells": [
    {
      "cell_type": "markdown",
      "metadata": {
        "id": "wDl6SjWbwQfI"
      },
      "source": [
        "# **Install Libraries**"
      ]
    },
    {
      "cell_type": "code",
      "metadata": {
        "id": "wW7sDwjcMkwB"
      },
      "source": [
        "#PyDrive is used to connect to Google Drive for importing Dataset, trained Models\n",
        "!pip install PyDrive\n",
        "#Gensim is a Memory efficient NLP Library, used for word2Vec Model creation\n",
        "!pip install gensim\n",
        "#Wordcloud is used for plotting wordClouds\n",
        "!pip install wordcloud"
      ],
      "execution_count": null,
      "outputs": []
    },
    {
      "cell_type": "markdown",
      "metadata": {
        "id": "w1YWNvPvrbkL"
      },
      "source": [
        "# **Importing Modules**"
      ]
    },
    {
      "cell_type": "code",
      "metadata": {
        "id": "aaA450DypT-Q",
        "outputId": "85f8148b-582e-494e-e977-548c1512a76e",
        "colab": {
          "base_uri": "https://localhost:8080/",
          "height": 51
        }
      },
      "source": [
        "#Required Modules\n",
        "#re-regex library, used for performing string substitution functions like removing usernames, links, emoticons.\n",
        "import re\n",
        "import string\n",
        "import numpy as np\n",
        "import pandas as pd\n",
        "#csv library is used for reading .csv files \n",
        "import csv\n",
        "from csv import reader\n",
        "#pydrive library used to connect to Google Drive for importing Dataset, trained Models\n",
        "from pydrive.auth import GoogleAuth\n",
        "from pydrive.drive import GoogleDrive\n",
        "from google.colab import auth\n",
        "from oauth2client.client import GoogleCredentials\n",
        "#nltk library is used for importing stopwords and Stemmer\n",
        "import nltk\n",
        "nltk.download('stopwords')\n",
        "from nltk.stem import PorterStemmer \n",
        "from nltk.corpus import stopwords \n",
        "#Gensim is a memory efficient library used for creating word2Vec Model and Corpus\n",
        "import gensim\n",
        "from gensim import corpora\n",
        "import itertools\n",
        "from collections import defaultdict\n",
        "#matplot library is used for plotting Graphs\n",
        "import matplotlib.pyplot as plt\n",
        "from matplotlib import pyplot\n",
        "#wordcloud library is used for creating WordClouds for EDA\n",
        "from wordcloud import WordCloud\n",
        "#sklearn is a ML library which is used here to perform PCA and Label Encoding\n",
        "from sklearn.decomposition import PCA\n",
        "from sklearn.preprocessing import LabelEncoder\n",
        "#keras is a ML library used for building Deep Learning Models\n",
        "import keras\n",
        "from keras.models import Sequential\n",
        "from keras.callbacks import ReduceLROnPlateau, EarlyStopping\n",
        "from keras.layers import Activation, Dense, Dropout, Embedding,  LSTM\n",
        "from tensorflow.keras import layers"
      ],
      "execution_count": null,
      "outputs": [
        {
          "output_type": "stream",
          "text": [
            "[nltk_data] Downloading package stopwords to /root/nltk_data...\n",
            "[nltk_data]   Unzipping corpora/stopwords.zip.\n"
          ],
          "name": "stdout"
        }
      ]
    },
    {
      "cell_type": "markdown",
      "metadata": {
        "id": "z2rr4x8_rufU"
      },
      "source": [
        "#**Google** **Authorization**"
      ]
    },
    {
      "cell_type": "code",
      "metadata": {
        "id": "vt_eNE-rpjpI"
      },
      "source": [
        "#Google Authorization\n",
        "auth.authenticate_user()\n",
        "gauth = GoogleAuth()\n",
        "gauth.credentials = GoogleCredentials.get_application_default()\n",
        "drive = GoogleDrive(gauth)"
      ],
      "execution_count": null,
      "outputs": []
    },
    {
      "cell_type": "code",
      "metadata": {
        "id": "RbaRWV5jqCR7"
      },
      "source": [
        "#Access Google Drive\n",
        "data = drive.CreateFile({'id':\"1-BktOhkDeCD4S7B38R3Ri9JI7-AR1_Qh\"})\n",
        "data.GetContentFile(\"twitterReviews.csv\")"
      ],
      "execution_count": null,
      "outputs": []
    },
    {
      "cell_type": "markdown",
      "metadata": {
        "id": "E-x6IYqlr9T-"
      },
      "source": [
        "# **Data Pre Processing**"
      ]
    },
    {
      "cell_type": "code",
      "metadata": {
        "id": "027JOvKArhmp",
        "outputId": "1711a35f-0a81-4abb-bb4a-89bac43568e7",
        "colab": {
          "base_uri": "https://localhost:8080/",
          "height": 255
        }
      },
      "source": [
        "#Convert .csv to a dataframe\n",
        "df = pd.read_csv('twitterReviews.csv', engine='python', names=[\"Score\",\"Id\", \"Time\", \"Query\", \"Username\",\"Tweet\"])\n",
        "print(df)"
      ],
      "execution_count": null,
      "outputs": [
        {
          "output_type": "stream",
          "text": [
            "         Score  ...                                              Tweet\n",
            "0            0  ...  @switchfoot http://twitpic.com/2y1zl - Awww, t...\n",
            "1            0  ...  is upset that he can't update his Facebook by ...\n",
            "2            0  ...  @Kenichan I dived many times for the ball. Man...\n",
            "3            0  ...    my whole body feels itchy and like its on fire \n",
            "4            0  ...  @nationwideclass no, it's not behaving at all....\n",
            "...        ...  ...                                                ...\n",
            "1599995      4  ...  Just woke up. Having no school is the best fee...\n",
            "1599996      4  ...  TheWDB.com - Very cool to hear old Walt interv...\n",
            "1599997      4  ...  Are you ready for your MoJo Makeover? Ask me f...\n",
            "1599998      4  ...  Happy 38th Birthday to my boo of alll time!!! ...\n",
            "1599999      4  ...  happy #charitytuesday @theNSPCC @SparksCharity...\n",
            "\n",
            "[1600000 rows x 6 columns]\n"
          ],
          "name": "stdout"
        }
      ]
    },
    {
      "cell_type": "code",
      "metadata": {
        "id": "K-5aQIHXs3Zz",
        "outputId": "61cc334f-c35c-465d-9c0d-c617c09a09af",
        "colab": {
          "base_uri": "https://localhost:8080/",
          "height": 204
        }
      },
      "source": [
        "df.head()"
      ],
      "execution_count": null,
      "outputs": [
        {
          "output_type": "execute_result",
          "data": {
            "text/html": [
              "<div>\n",
              "<style scoped>\n",
              "    .dataframe tbody tr th:only-of-type {\n",
              "        vertical-align: middle;\n",
              "    }\n",
              "\n",
              "    .dataframe tbody tr th {\n",
              "        vertical-align: top;\n",
              "    }\n",
              "\n",
              "    .dataframe thead th {\n",
              "        text-align: right;\n",
              "    }\n",
              "</style>\n",
              "<table border=\"1\" class=\"dataframe\">\n",
              "  <thead>\n",
              "    <tr style=\"text-align: right;\">\n",
              "      <th></th>\n",
              "      <th>Score</th>\n",
              "      <th>Id</th>\n",
              "      <th>Time</th>\n",
              "      <th>Query</th>\n",
              "      <th>Username</th>\n",
              "      <th>Tweet</th>\n",
              "    </tr>\n",
              "  </thead>\n",
              "  <tbody>\n",
              "    <tr>\n",
              "      <th>0</th>\n",
              "      <td>0</td>\n",
              "      <td>1467810369</td>\n",
              "      <td>Mon Apr 06 22:19:45 PDT 2009</td>\n",
              "      <td>NO_QUERY</td>\n",
              "      <td>_TheSpecialOne_</td>\n",
              "      <td>@switchfoot http://twitpic.com/2y1zl - Awww, t...</td>\n",
              "    </tr>\n",
              "    <tr>\n",
              "      <th>1</th>\n",
              "      <td>0</td>\n",
              "      <td>1467810672</td>\n",
              "      <td>Mon Apr 06 22:19:49 PDT 2009</td>\n",
              "      <td>NO_QUERY</td>\n",
              "      <td>scotthamilton</td>\n",
              "      <td>is upset that he can't update his Facebook by ...</td>\n",
              "    </tr>\n",
              "    <tr>\n",
              "      <th>2</th>\n",
              "      <td>0</td>\n",
              "      <td>1467810917</td>\n",
              "      <td>Mon Apr 06 22:19:53 PDT 2009</td>\n",
              "      <td>NO_QUERY</td>\n",
              "      <td>mattycus</td>\n",
              "      <td>@Kenichan I dived many times for the ball. Man...</td>\n",
              "    </tr>\n",
              "    <tr>\n",
              "      <th>3</th>\n",
              "      <td>0</td>\n",
              "      <td>1467811184</td>\n",
              "      <td>Mon Apr 06 22:19:57 PDT 2009</td>\n",
              "      <td>NO_QUERY</td>\n",
              "      <td>ElleCTF</td>\n",
              "      <td>my whole body feels itchy and like its on fire</td>\n",
              "    </tr>\n",
              "    <tr>\n",
              "      <th>4</th>\n",
              "      <td>0</td>\n",
              "      <td>1467811193</td>\n",
              "      <td>Mon Apr 06 22:19:57 PDT 2009</td>\n",
              "      <td>NO_QUERY</td>\n",
              "      <td>Karoli</td>\n",
              "      <td>@nationwideclass no, it's not behaving at all....</td>\n",
              "    </tr>\n",
              "  </tbody>\n",
              "</table>\n",
              "</div>"
            ],
            "text/plain": [
              "   Score  ...                                              Tweet\n",
              "0      0  ...  @switchfoot http://twitpic.com/2y1zl - Awww, t...\n",
              "1      0  ...  is upset that he can't update his Facebook by ...\n",
              "2      0  ...  @Kenichan I dived many times for the ball. Man...\n",
              "3      0  ...    my whole body feels itchy and like its on fire \n",
              "4      0  ...  @nationwideclass no, it's not behaving at all....\n",
              "\n",
              "[5 rows x 6 columns]"
            ]
          },
          "metadata": {
            "tags": []
          },
          "execution_count": 5
        }
      ]
    },
    {
      "cell_type": "code",
      "metadata": {
        "id": "xseqVgJ83VjQ",
        "outputId": "20f952b5-0a73-424d-ff97-3d230332a5d8",
        "colab": {
          "base_uri": "https://localhost:8080/",
          "height": 204
        }
      },
      "source": [
        "#Text Cleaning\n",
        "\n",
        "#Removing Irrelevant Features i.e Id, Time, Query and Username.\n",
        "df = df.drop(['Id', 'Time','Query','Username'], axis=1)\n",
        "df.head()"
      ],
      "execution_count": null,
      "outputs": [
        {
          "output_type": "execute_result",
          "data": {
            "text/html": [
              "<div>\n",
              "<style scoped>\n",
              "    .dataframe tbody tr th:only-of-type {\n",
              "        vertical-align: middle;\n",
              "    }\n",
              "\n",
              "    .dataframe tbody tr th {\n",
              "        vertical-align: top;\n",
              "    }\n",
              "\n",
              "    .dataframe thead th {\n",
              "        text-align: right;\n",
              "    }\n",
              "</style>\n",
              "<table border=\"1\" class=\"dataframe\">\n",
              "  <thead>\n",
              "    <tr style=\"text-align: right;\">\n",
              "      <th></th>\n",
              "      <th>Score</th>\n",
              "      <th>Tweet</th>\n",
              "    </tr>\n",
              "  </thead>\n",
              "  <tbody>\n",
              "    <tr>\n",
              "      <th>0</th>\n",
              "      <td>0</td>\n",
              "      <td>@switchfoot http://twitpic.com/2y1zl - Awww, t...</td>\n",
              "    </tr>\n",
              "    <tr>\n",
              "      <th>1</th>\n",
              "      <td>0</td>\n",
              "      <td>is upset that he can't update his Facebook by ...</td>\n",
              "    </tr>\n",
              "    <tr>\n",
              "      <th>2</th>\n",
              "      <td>0</td>\n",
              "      <td>@Kenichan I dived many times for the ball. Man...</td>\n",
              "    </tr>\n",
              "    <tr>\n",
              "      <th>3</th>\n",
              "      <td>0</td>\n",
              "      <td>my whole body feels itchy and like its on fire</td>\n",
              "    </tr>\n",
              "    <tr>\n",
              "      <th>4</th>\n",
              "      <td>0</td>\n",
              "      <td>@nationwideclass no, it's not behaving at all....</td>\n",
              "    </tr>\n",
              "  </tbody>\n",
              "</table>\n",
              "</div>"
            ],
            "text/plain": [
              "   Score                                              Tweet\n",
              "0      0  @switchfoot http://twitpic.com/2y1zl - Awww, t...\n",
              "1      0  is upset that he can't update his Facebook by ...\n",
              "2      0  @Kenichan I dived many times for the ball. Man...\n",
              "3      0    my whole body feels itchy and like its on fire \n",
              "4      0  @nationwideclass no, it's not behaving at all...."
            ]
          },
          "metadata": {
            "tags": []
          },
          "execution_count": 6
        }
      ]
    },
    {
      "cell_type": "code",
      "metadata": {
        "id": "qKtwwW0k2ePz",
        "outputId": "d857f086-449e-4786-939b-5cf486f6365b",
        "colab": {
          "base_uri": "https://localhost:8080/",
          "height": 85
        }
      },
      "source": [
        "#Removing \"@username\" from tweets\n",
        "scores = df['Score'].values.tolist()\n",
        "tweets = df['Tweet']\n",
        "print(\"Before Removing Usernames: \")\n",
        "print(tweets[0])\n",
        "tweets = [re.sub('@[^\\s]+','',tweet) for tweet in tweets]\n",
        "print(\"After Removing Usernames: \")\n",
        "print(tweets[0])"
      ],
      "execution_count": null,
      "outputs": [
        {
          "output_type": "stream",
          "text": [
            "Before Removing Usernames: \n",
            "@switchfoot http://twitpic.com/2y1zl - Awww, that's a bummer.  You shoulda got David Carr of Third Day to do it. ;D\n",
            "After Removing Usernames: \n",
            " http://twitpic.com/2y1zl - Awww, that's a bummer.  You shoulda got David Carr of Third Day to do it. ;D\n"
          ],
          "name": "stdout"
        }
      ]
    },
    {
      "cell_type": "code",
      "metadata": {
        "id": "Z2gv2iwHq2jP",
        "outputId": "7823e868-0b8c-48a0-ed7c-ce158eec78a9",
        "colab": {
          "base_uri": "https://localhost:8080/",
          "height": 85
        }
      },
      "source": [
        "#Removing links from tweets\n",
        "print(\"Before Removing Links: \")\n",
        "print(tweets[0])\n",
        "tweets = [re.sub('http[^\\s]+','',tweet) for tweet in tweets]\n",
        "print(\"After Removing Links: \")\n",
        "print(tweets[0])"
      ],
      "execution_count": null,
      "outputs": [
        {
          "output_type": "stream",
          "text": [
            "Before Removing Links: \n",
            " http://twitpic.com/2y1zl - Awww, that's a bummer.  You shoulda got David Carr of Third Day to do it. ;D\n",
            "After Removing Links: \n",
            "  - Awww, that's a bummer.  You shoulda got David Carr of Third Day to do it. ;D\n"
          ],
          "name": "stdout"
        }
      ]
    },
    {
      "cell_type": "code",
      "metadata": {
        "id": "7I6pWBcVz3pd",
        "outputId": "7f849b29-f2b6-4470-bbab-63532f938ebc",
        "colab": {
          "base_uri": "https://localhost:8080/",
          "height": 85
        }
      },
      "source": [
        "#Removing emoticons and punctuation\n",
        "print(\"Before Removing Punctuation and Emoticons: \")\n",
        "print(tweets[0])\n",
        "tweets = [tweet.translate(str.maketrans('', '', string.punctuation)) for tweet in tweets]\n",
        "print(\"After Removing Punctuation and Emoticons: \")\n",
        "print(tweets[0])"
      ],
      "execution_count": null,
      "outputs": [
        {
          "output_type": "stream",
          "text": [
            "Before Removing Punctuation and Emoticons: \n",
            "  - Awww, that's a bummer.  You shoulda got David Carr of Third Day to do it. ;D\n",
            "After Removing Punctuation and Emoticons: \n",
            "   Awww thats a bummer  You shoulda got David Carr of Third Day to do it D\n"
          ],
          "name": "stdout"
        }
      ]
    },
    {
      "cell_type": "code",
      "metadata": {
        "id": "oWm-PXR06gNL",
        "outputId": "49754e40-78b7-401d-83d4-a68ef53178cf",
        "colab": {
          "base_uri": "https://localhost:8080/",
          "height": 85
        }
      },
      "source": [
        "#Converting all tweets to lowercase\n",
        "print(\"Before lowercasing: \")\n",
        "print(tweets[0])\n",
        "tweets = [tweet.lower() for tweet in tweets]\n",
        "print(\"After lowercasing: \")\n",
        "print(tweets[0])"
      ],
      "execution_count": null,
      "outputs": [
        {
          "output_type": "stream",
          "text": [
            "Before lowercasing: \n",
            "   Awww thats a bummer  You shoulda got David Carr of Third Day to do it D\n",
            "After lowercasing: \n",
            "   awww thats a bummer  you shoulda got david carr of third day to do it d\n"
          ],
          "name": "stdout"
        }
      ]
    },
    {
      "cell_type": "code",
      "metadata": {
        "id": "dhfMMD4V8e1s",
        "outputId": "8ccf7c09-6cf8-4268-a54b-08cafed9b637",
        "colab": {
          "base_uri": "https://localhost:8080/",
          "height": 85
        }
      },
      "source": [
        "#Removing digits\n",
        "print(\"Before removing digits: \")\n",
        "print(tweets[101])\n",
        "tweets = [re.sub(\" \\d+\", \"\", tweet) for tweet in tweets]\n",
        "print(\"After removing digits: \")\n",
        "print(tweets[101])"
      ],
      "execution_count": null,
      "outputs": [
        {
          "output_type": "stream",
          "text": [
            "Before removing digits: \n",
            " i hope they will increase the capacity fast yesterday was such a pain got the fail whale 15 times in 2 hours \n",
            "After removing digits: \n",
            " i hope they will increase the capacity fast yesterday was such a pain got the fail whale times in hours \n"
          ],
          "name": "stdout"
        }
      ]
    },
    {
      "cell_type": "code",
      "metadata": {
        "id": "e-jSnFaA9Bxd",
        "outputId": "e837bd7e-603b-4592-b144-6bc87d9db6ab",
        "colab": {
          "base_uri": "https://localhost:8080/",
          "height": 105
        }
      },
      "source": [
        "#Removing whitespaces to convert to List of Words\n",
        "print(\"Before removing whitespaces: \")\n",
        "print(tweets[101])\n",
        "tweets = [tweet.split() for tweet in tweets]\n",
        "print(\"After removing whitespaces: \")\n",
        "print(tweets[101])"
      ],
      "execution_count": null,
      "outputs": [
        {
          "output_type": "stream",
          "text": [
            "Before removing whitespaces: \n",
            " i hope they will increase the capacity fast yesterday was such a pain got the fail whale times in hours \n",
            "After removing whitespaces: \n",
            "['i', 'hope', 'they', 'will', 'increase', 'the', 'capacity', 'fast', 'yesterday', 'was', 'such', 'a', 'pain', 'got', 'the', 'fail', 'whale', 'times', 'in', 'hours']\n"
          ],
          "name": "stdout"
        }
      ]
    },
    {
      "cell_type": "code",
      "metadata": {
        "id": "ZCV0GERI_eSi",
        "outputId": "1251df7f-ca5d-4f17-9c32-998f89b67b31",
        "colab": {
          "base_uri": "https://localhost:8080/",
          "height": 105
        }
      },
      "source": [
        "#Removing stopwords \n",
        "stop_words = set(stopwords.words('english')) \n",
        "stop_words.add(\"im\")\n",
        "stop_words.remove(\"no\")\n",
        "stop_words.remove(\"against\")\n",
        "stop_words.remove(\"not\")\n",
        "stop_words.remove(\"don\")\n",
        "print(\"Before removing stopwords: \")\n",
        "print(tweets[101])\n",
        "filtered_tweets = []\n",
        "for words in tweets:\n",
        "  filtered_words = []\n",
        "  for word in words:\n",
        "    if(word not in stop_words):\n",
        "      filtered_words.append(word)\n",
        "  filtered_tweets.append(filtered_words)\n",
        "tweets = filtered_tweets      \n",
        "print(\"After removing stopwords: \")\n",
        "print(tweets[101])"
      ],
      "execution_count": null,
      "outputs": [
        {
          "output_type": "stream",
          "text": [
            "Before removing stopwords: \n",
            "['i', 'hope', 'they', 'will', 'increase', 'the', 'capacity', 'fast', 'yesterday', 'was', 'such', 'a', 'pain', 'got', 'the', 'fail', 'whale', 'times', 'in', 'hours']\n",
            "After removing stopwords: \n",
            "['hope', 'increase', 'capacity', 'fast', 'yesterday', 'pain', 'got', 'fail', 'whale', 'times', 'hours']\n"
          ],
          "name": "stdout"
        }
      ]
    },
    {
      "cell_type": "code",
      "metadata": {
        "id": "slRPU6XuC_Ux",
        "outputId": "9669fc86-8ea2-4237-d046-2a48ab4baa3d",
        "colab": {
          "base_uri": "https://localhost:8080/",
          "height": 85
        }
      },
      "source": [
        "#Stemming\n",
        "ps = PorterStemmer() \n",
        "print(\"Before Stemming: \")\n",
        "print(tweets[0])\n",
        "filtered_tweets = []\n",
        "for words in tweets:\n",
        "  filtered_words = []\n",
        "  for word in words:\n",
        "    filtered_words.append(ps.stem(word))\n",
        "  filtered_tweets.append(filtered_words)\n",
        "tweets = filtered_tweets      \n",
        "print(\"After Stemming: \")\n",
        "print(tweets[0])"
      ],
      "execution_count": null,
      "outputs": [
        {
          "output_type": "stream",
          "text": [
            "Before Stemming: \n",
            "['awww', 'thats', 'bummer', 'shoulda', 'got', 'david', 'carr', 'third', 'day']\n",
            "After Stemming: \n",
            "['awww', 'that', 'bummer', 'shoulda', 'got', 'david', 'carr', 'third', 'day']\n"
          ],
          "name": "stdout"
        }
      ]
    },
    {
      "cell_type": "code",
      "metadata": {
        "id": "pa6z8-KDrJdI",
        "outputId": "961627fd-0a70-4568-b72f-b0451c332a62",
        "colab": {
          "base_uri": "https://localhost:8080/",
          "height": 51
        }
      },
      "source": [
        "#Counting occurences of each class\n",
        "print(\"Negative Tweets: \",scores.count(0))\n",
        "print(\"Positive Tweets: \",scores.count(4))"
      ],
      "execution_count": null,
      "outputs": [
        {
          "output_type": "stream",
          "text": [
            "Negative Tweets:  800000\n",
            "Positive Tweets:  800000\n"
          ],
          "name": "stdout"
        }
      ]
    },
    {
      "cell_type": "markdown",
      "metadata": {
        "id": "kVYGAGF6uAPS"
      },
      "source": [
        "# **EDA**"
      ]
    },
    {
      "cell_type": "code",
      "metadata": {
        "id": "httDYHW1a-ZP",
        "outputId": "245be135-74ab-46f7-b5c5-db3f01216dba",
        "colab": {
          "base_uri": "https://localhost:8080/",
          "height": 34
        }
      },
      "source": [
        "#Create a Dictionary of all the words\n",
        "dictionary = corpora.Dictionary(tweets)\n",
        "print(dictionary)"
      ],
      "execution_count": null,
      "outputs": [
        {
          "output_type": "stream",
          "text": [
            "Dictionary(399098 unique tokens: ['awww', 'bummer', 'carr', 'david', 'day']...)\n"
          ],
          "name": "stdout"
        }
      ]
    },
    {
      "cell_type": "code",
      "metadata": {
        "id": "12tyLAcHgGiq"
      },
      "source": [
        "#Create a Corpus\n",
        "corpus = [dictionary.doc2bow(tweet) for tweet in tweets]"
      ],
      "execution_count": null,
      "outputs": []
    },
    {
      "cell_type": "code",
      "metadata": {
        "id": "VsJVv9NZgdcK",
        "outputId": "a534a47b-bf98-4844-8752-3c64148ea882",
        "colab": {
          "base_uri": "https://localhost:8080/",
          "height": 85
        }
      },
      "source": [
        "print(\"Before Count Vectorization: \")\n",
        "print(tweets[100])\n",
        "print(\"After Count Vectorization: \")\n",
        "print(corpus[100])"
      ],
      "execution_count": null,
      "outputs": [
        {
          "output_type": "stream",
          "text": [
            "Before Count Vectorization: \n",
            "['bodi', 'miss', 'northern', 'calif', 'girl', 'found', 'polic', 'found', 'remain', 'miss', 'northern', 'california', 'girl']\n",
            "After Count Vectorization: \n",
            "[(30, 1), (85, 2), (224, 2), (225, 2), (503, 1), (504, 1), (505, 2), (506, 1), (507, 1)]\n"
          ],
          "name": "stdout"
        }
      ]
    },
    {
      "cell_type": "code",
      "metadata": {
        "id": "wZRvllL7sUDh"
      },
      "source": [
        "#Frequency of Words\n",
        "total_count = defaultdict(int)\n",
        "for word_id, word_count in itertools.chain.from_iterable(corpus):\n",
        "    total_count[word_id] += word_count"
      ],
      "execution_count": null,
      "outputs": []
    },
    {
      "cell_type": "code",
      "metadata": {
        "id": "7rmS7gekyVQP",
        "outputId": "657d879f-7da3-48a6-d67e-eaf805ef9f5b",
        "colab": {
          "base_uri": "https://localhost:8080/",
          "height": 235
        }
      },
      "source": [
        "#Wordcloud of 50 Most Frequent Words\n",
        "mostFrequentWordsDict = {}\n",
        "mostFrequentWords = sorted(total_count.items(), key=lambda x: x[1], reverse=True)[:50]\n",
        "for key,freq in mostFrequentWords:\n",
        "  mostFrequentWordsDict[dictionary[key]] = int(freq)\n",
        "print(mostFrequentWordsDict)\n",
        "wc = WordCloud(background_color='white')\n",
        "wc.generate_from_frequencies(mostFrequentWordsDict)\n",
        "plt.imshow(wc)\n",
        "plt.axis(\"off\")\n",
        "plt.show()"
      ],
      "execution_count": null,
      "outputs": [
        {
          "output_type": "stream",
          "text": [
            "{'go': 136934, 'get': 109833, 'not': 106311, 'day': 101124, 'good': 90467, 'work': 84723, 'like': 82495, 'love': 81031, 'no': 73476, 'dont': 66906, 'today': 66024, 'time': 64233, 'cant': 62597, 'got': 60947, 'thank': 57914, 'want': 57004, 'back': 56326, 'miss': 56230, 'one': 55862, 'lol': 55346, 'know': 54034, 'u': 52660, 'see': 50758, 'feel': 50632, 'think': 50602, 'realli': 49587, 'well': 44527, 'hope': 43699, 'night': 43188, 'watch': 43067, 'need': 42848, 'still': 42816, 'make': 42517, 'new': 41903, 'amp': 40562, 'home': 39423, 'look': 39004, 'come': 38560, 'oh': 37992, 'much': 36515, 'last': 35680, 'twitter': 34396, 'morn': 34225, 'tomorrow': 33266, 'wish': 33215, 'great': 32940, 'wait': 31948, 'ill': 31815, 'sleep': 31173, 'that': 30534}\n"
          ],
          "name": "stdout"
        },
        {
          "output_type": "display_data",
          "data": {
            "image/png": "[encoded data removed]",
            "text/plain": [
              "<Figure size 432x288 with 1 Axes>"
            ]
          },
          "metadata": {
            "tags": [],
            "needs_background": "light"
          }
        }
      ]
    },
    {
      "cell_type": "code",
      "metadata": {
        "id": "iuR7Kkl7znzA",
        "outputId": "3d2eb0d3-8a70-42bf-e7e8-509370f727e8",
        "colab": {
          "base_uri": "https://localhost:8080/",
          "height": 187
        }
      },
      "source": [
        "#Least Frequently Used Words\n",
        "leastFrequentWords = sorted(total_count.items(), key=lambda x: x[1])[:10]\n",
        "for key,freq in leastFrequentWords:\n",
        "  print(dictionary[key],freq)"
      ],
      "execution_count": null,
      "outputs": [
        {
          "output_type": "stream",
          "text": [
            "muera 1\n",
            "doucheclown 1\n",
            "misslilli 1\n",
            "manwa 1\n",
            "samro 1\n",
            "wwwdiigocomtautao 1\n",
            "ugh92 1\n",
            "coitu 1\n",
            "nikster 1\n",
            "shortsand 1\n"
          ],
          "name": "stdout"
        }
      ]
    },
    {
      "cell_type": "code",
      "metadata": {
        "id": "Ovmf2nUb3-Dh",
        "outputId": "46e9cf07-5982-444d-f313-bac3fca8eb87",
        "colab": {
          "base_uri": "https://localhost:8080/",
          "height": 295
        }
      },
      "source": [
        "#Histogram of Most Frequeny Words\n",
        "mostFrequentWordsDictForHist = {}\n",
        "mostFrequentWords = sorted(total_count.items(), key=lambda x: x[1], reverse=True)[:10]\n",
        "for key,freq in mostFrequentWords:\n",
        "  mostFrequentWordsDictForHist[dictionary[key]] = int(freq)\n",
        "\n",
        "plt.bar(list(mostFrequentWordsDictForHist.keys()), mostFrequentWordsDictForHist.values(), color='blue',edgecolor='black',linewidth = 1)\n",
        "plt.xlabel('Word')  \n",
        "plt.ylabel('Frequency')  \n",
        "# displaying the title \n",
        "plt.title(\"10 Most Frequent Words\") \n",
        "plt.show()"
      ],
      "execution_count": null,
      "outputs": [
        {
          "output_type": "display_data",
          "data": {
            "image/png": "[encoded data removed]",
            "text/plain": [
              "<Figure size 432x288 with 1 Axes>"
            ]
          },
          "metadata": {
            "tags": [],
            "needs_background": "light"
          }
        }
      ]
    },
    {
      "cell_type": "code",
      "metadata": {
        "id": "OpqjU48LqgHH",
        "outputId": "d5186f32-4a9a-4ba9-9401-87ff42bbe186",
        "colab": {
          "base_uri": "https://localhost:8080/",
          "height": 34
        }
      },
      "source": [
        "#Word2Vec\n",
        "class MySentences(object):\n",
        "    def __init__(self):\n",
        "      print(\"Constructor\")\n",
        "    def __iter__(self):\n",
        "        with open(\"twitter-corpus.csv\") as f:\n",
        "            for line in f:\n",
        "                tweet = line.split(',')\n",
        "                yield(tweet)\n",
        " \n",
        "sentences = MySentences()\n",
        "model = gensim.models.Word2Vec(sentences , iter = 10, size = 100)"
      ],
      "execution_count": null,
      "outputs": [
        {
          "output_type": "stream",
          "text": [
            "Constructor\n"
          ],
          "name": "stdout"
        }
      ]
    },
    {
      "cell_type": "code",
      "metadata": {
        "id": "Dspici-r80rs"
      },
      "source": [
        "#Save Cleaned Tweets\n",
        "with open(\"twitter-corpus.csv\", \"w\", newline=\"\") as f:\n",
        "    writer = csv.writer(f)\n",
        "    writer.writerows(tweets)\n",
        "\n",
        "#Save Scores\n",
        "with open(\"twitter-scores.csv\", \"w\", newline=\"\") as f:\n",
        "    writer = csv.writer(f)\n",
        "    writer.writerow(scores)\n",
        "  "
      ],
      "execution_count": null,
      "outputs": []
    },
    {
      "cell_type": "code",
      "metadata": {
        "id": "zCjpU4Hv-b-Q",
        "outputId": "60c1d789-8a9a-4e4a-823f-f5a581d46428",
        "colab": {
          "base_uri": "https://localhost:8080/",
          "height": 71
        }
      },
      "source": [
        "#Save Word2Vec Model\n",
        "model.wv.save_word2vec_format('twitter-word2Vecmodel.bin', binary=True)\n"
      ],
      "execution_count": null,
      "outputs": [
        {
          "output_type": "stream",
          "text": [
            "/usr/local/lib/python3.6/dist-packages/smart_open/smart_open_lib.py:254: UserWarning: This function is deprecated, use smart_open.open instead. See the migration notes for details: https://github.com/RaRe-Technologies/smart_open/blob/master/README.rst#migrating-to-the-new-open-function\n",
            "  'See the migration notes for details: %s' % _MIGRATION_NOTES_URL\n"
          ],
          "name": "stderr"
        }
      ]
    },
    {
      "cell_type": "markdown",
      "metadata": {
        "id": "bMpEyxEZ46GQ"
      },
      "source": [
        "# **Train Validation Test Split** "
      ]
    },
    {
      "cell_type": "code",
      "metadata": {
        "id": "A5mZ0JO_r8ld",
        "outputId": "4841489d-98a2-4d21-8727-66cef444df87",
        "colab": {
          "base_uri": "https://localhost:8080/",
          "height": 71
        }
      },
      "source": [
        "#Load word2Vec Model\n",
        "word2VecFromDrive = drive.CreateFile({'id':\"1EgHkmSCftnyXc3oYt0lqrms0EcxPikdw\"})\n",
        "word2VecFromDrive.GetContentFile(\"twitter-word2Vecmodel.bin\")\n",
        "model = gensim.models.KeyedVectors.load_word2vec_format('twitter-word2Vecmodel.bin', binary = True)"
      ],
      "execution_count": null,
      "outputs": [
        {
          "output_type": "stream",
          "text": [
            "/usr/local/lib/python3.6/dist-packages/smart_open/smart_open_lib.py:254: UserWarning: This function is deprecated, use smart_open.open instead. See the migration notes for details: https://github.com/RaRe-Technologies/smart_open/blob/master/README.rst#migrating-to-the-new-open-function\n",
            "  'See the migration notes for details: %s' % _MIGRATION_NOTES_URL\n"
          ],
          "name": "stderr"
        }
      ]
    },
    {
      "cell_type": "code",
      "metadata": {
        "id": "A8j6vukr-nYe",
        "outputId": "e1068395-5742-4b4e-fb8a-ec2d577560d1",
        "colab": {
          "base_uri": "https://localhost:8080/",
          "height": 51
        }
      },
      "source": [
        "#Load cleaned Tweets\n",
        "tweetsFromDrive = drive.CreateFile({'id':\"1EE4DmlsZDGaJTb7eKHT8i9KxKGcu3QBm\"})\n",
        "tweetsFromDrive.GetContentFile(\"twitter-corpus.csv\")\n",
        "tweets = []\n",
        "with open('twitter-corpus.csv', 'r') as read_obj:\n",
        "    csv_reader = reader(read_obj)\n",
        "    tweets = list(csv_reader)\n",
        "print(tweets[0])\n",
        "\n",
        "#Load scores of Tweets\n",
        "scores = []\n",
        "scoresFromDrive = drive.CreateFile({'id':\"12MoUaS97ngNlhfrydOqwc7AJI1LUOWxf\"})\n",
        "scoresFromDrive.GetContentFile(\"twitter-scores.csv\")\n",
        "with open('twitter-scores.csv', 'r') as read_obj:\n",
        "    csv_reader = reader(read_obj)\n",
        "    scores = list(csv_reader)\n",
        "    scores = scores[0]\n",
        "print(scores[0])\n",
        "for i in range(0,len(scores)):\n",
        "  scores[i] = int(scores[i])"
      ],
      "execution_count": null,
      "outputs": [
        {
          "output_type": "stream",
          "text": [
            "['awww', 'that', 'bummer', 'shoulda', 'got', 'david', 'carr', 'third', 'day']\n",
            "0\n"
          ],
          "name": "stdout"
        }
      ]
    },
    {
      "cell_type": "code",
      "metadata": {
        "id": "2NQjO1lerYPm",
        "outputId": "94da0132-302a-4c30-d3dc-3b4128189332",
        "colab": {
          "base_uri": "https://localhost:8080/",
          "height": 51
        }
      },
      "source": [
        "#Counting occurences of each class\n",
        "print(\"Negative Tweets: \",scores.count(0))\n",
        "print(\"Positive Tweets: \",scores.count(4))"
      ],
      "execution_count": null,
      "outputs": [
        {
          "output_type": "stream",
          "text": [
            "Negative Tweets:  800000\n",
            "Positive Tweets:  800000\n"
          ],
          "name": "stdout"
        }
      ]
    },
    {
      "cell_type": "code",
      "metadata": {
        "id": "BfHWF-s14Rpx",
        "outputId": "6333cf8a-9df4-4ae2-f4be-4ff535c4cbc9",
        "colab": {
          "base_uri": "https://localhost:8080/",
          "height": 442
        }
      },
      "source": [
        "print(model[\"good\"])"
      ],
      "execution_count": null,
      "outputs": [
        {
          "output_type": "stream",
          "text": [
            "[ 1.5598195e+00  7.9729222e-02 -7.9734832e-01  6.1806705e-02\n",
            " -2.5485742e+00 -1.4533844e+00  2.3488922e-01 -1.4686337e+00\n",
            " -2.4524820e+00 -3.6058244e-01  2.9656968e-01 -7.4788266e-01\n",
            "  1.6175625e+00 -8.9940828e-01 -4.8692048e-01  1.5925959e+00\n",
            "  9.6304899e-01  1.2345026e+00  2.4657685e-01 -6.9697119e-02\n",
            "  2.8506448e+00  2.0209634e-01 -4.8718572e-01 -1.5094883e+00\n",
            " -2.0571923e+00 -2.8787873e+00  1.2175996e+00  1.9864303e+00\n",
            "  7.2044492e-01 -1.9070032e-01 -1.2088072e+00  1.2644647e+00\n",
            "  3.9016816e-01 -2.0890312e+00  3.6113258e-02  1.3323451e+00\n",
            "  1.3341950e+00  6.2577957e-01 -1.8562132e+00  7.5768763e-01\n",
            "  1.1959599e+00  8.1647205e-01  2.0263464e+00 -2.9317993e-01\n",
            " -2.2693466e-01  6.7508548e-01 -9.7415167e-01  1.3243051e+00\n",
            "  9.0893304e-01  5.9440428e-01  1.3103390e+00 -3.5646504e-01\n",
            "  1.8374820e+00  2.3547432e+00  6.7169744e-01 -2.6871595e-01\n",
            "  1.4028052e+00 -1.2163171e+00  9.7609740e-01 -1.2656643e+00\n",
            " -1.7509173e+00  5.3439927e-01  1.9176751e+00  1.8760504e+00\n",
            "  1.6471310e+00  8.9562988e-01 -1.1849144e+00  1.7399174e+00\n",
            "  6.9231397e-01  2.8887753e+00 -1.4845374e-01  4.6307905e-04\n",
            "  6.7611821e-02 -1.8114489e+00 -3.8215083e-01 -2.4905151e-01\n",
            "  2.3819448e-02 -4.0862310e-01 -1.0501407e+00  1.4532492e+00\n",
            "  2.6018196e-01 -4.0412509e-01  1.0689909e+00  1.1438028e+00\n",
            " -9.9097371e-01  4.9513465e-01  9.4744749e-02  1.2383577e+00\n",
            " -3.2047305e-01  9.7379267e-02  2.6623350e-01  2.2020626e-01\n",
            " -3.6544880e-01  8.3068955e-01  9.7902840e-01 -5.2378285e-01\n",
            "  4.3805161e-01 -8.0668831e-01  2.6246283e+00  7.9030204e-01]\n"
          ],
          "name": "stdout"
        }
      ]
    },
    {
      "cell_type": "code",
      "metadata": {
        "id": "BqwsS1x7sI5s",
        "outputId": "2fe94dae-afaf-462f-fd42-f269b284c92f",
        "colab": {
          "base_uri": "https://localhost:8080/",
          "height": 88
        }
      },
      "source": [
        "#Vocabulary of Word2Vec Model\n",
        "vocabulary = list(model.wv.vocab)\n",
        "print(len(vocabulary))"
      ],
      "execution_count": null,
      "outputs": [
        {
          "output_type": "stream",
          "text": [
            "42468\n"
          ],
          "name": "stdout"
        },
        {
          "output_type": "stream",
          "text": [
            "/usr/local/lib/python3.6/dist-packages/ipykernel_launcher.py:2: DeprecationWarning: Call to deprecated `wv` (Attribute will be removed in 4.0.0, use self instead).\n",
            "  \n"
          ],
          "name": "stderr"
        }
      ]
    },
    {
      "cell_type": "code",
      "metadata": {
        "id": "Ts8qpzSyuSgV",
        "outputId": "5f56256b-301d-47d1-c5d7-79196fd5bf61",
        "colab": {
          "base_uri": "https://localhost:8080/",
          "height": 267
        }
      },
      "source": [
        "#Plotting Word2Vec\n",
        "testWords = [\"good\",\"great\",\"hate\",\"no\",\"happi\",\"cri\"]\n",
        "X = model[testWords]\n",
        "pca = PCA(n_components=2)\n",
        "result = pca.fit_transform(X)\n",
        "pyplot.scatter(result[:, 0], result[:, 1])\n",
        "for i, word in enumerate(testWords):\n",
        "    pyplot.annotate(word, xy=(result[i, 0], result[i, 1]))\n",
        "pyplot.show()"
      ],
      "execution_count": null,
      "outputs": [
        {
          "output_type": "display_data",
          "data": {
            "image/png": "[encoded data removed]",
            "text/plain": [
              "<Figure size 432x288 with 1 Axes>"
            ]
          },
          "metadata": {
            "tags": [],
            "needs_background": "light"
          }
        }
      ]
    },
    {
      "cell_type": "code",
      "metadata": {
        "id": "dMLmv4JbySd9"
      },
      "source": [
        "#Wor2Vec Vector of a Sentence\n",
        "def getVector(sentence):\n",
        "  count = 0\n",
        "  result = np.zeros(100)\n",
        "  sentence = sentence.split()\n",
        "  if(len(sentence) <= 1):\n",
        "    if(sentence[0] in vocabulary):\n",
        "      result = model[sentence[0]]\n",
        "    return result\n",
        "  for word in sentence:\n",
        "    if word in vocabulary:\n",
        "      vector = model[word]\n",
        "      result = result + vector\n",
        "      count = count + 1\n",
        "  if(count!=0):\n",
        "    result = result/count\n",
        "  return result"
      ],
      "execution_count": null,
      "outputs": []
    },
    {
      "cell_type": "code",
      "metadata": {
        "id": "PKQ0ud0Xym5c",
        "outputId": "dfb08661-aa2f-4bb5-f50e-eeb2d79ff32b",
        "colab": {
          "base_uri": "https://localhost:8080/",
          "height": 265
        }
      },
      "source": [
        "#Plot Word2Vec Vectors of sentences \n",
        "testSentences = [\"like you\", \"hate you\",\"great guy\",\"great mom\"]\n",
        "vectors = []\n",
        "for s in testSentences:\n",
        "  vectors.append(getVector(s))\n",
        "pca = PCA(n_components=2)\n",
        "result = pca.fit_transform(vectors)\n",
        "pyplot.scatter(result[:, 0], result[:, 1])\n",
        "for i, word in enumerate(testSentences):\n",
        "\tpyplot.annotate(word, xy=(result[i, 0], result[i, 1]))\n",
        "pyplot.show() "
      ],
      "execution_count": null,
      "outputs": [
        {
          "output_type": "display_data",
          "data": {
            "image/png": "[encoded data removed]",
            "text/plain": [
              "<Figure size 432x288 with 1 Axes>"
            ]
          },
          "metadata": {
            "tags": [],
            "needs_background": "light"
          }
        }
      ]
    },
    {
      "cell_type": "code",
      "metadata": {
        "id": "p1dXG8HNXaLk"
      },
      "source": [
        "def train_validate_test_split(df, train_percent=.6, validate_percent=.2, seed=None):\n",
        "    np.random.seed(seed)\n",
        "    perm = np.random.permutation(len(df))\n",
        "    m = len(df)\n",
        "    train_end = int(train_percent * m)\n",
        "    validate_end = int(validate_percent * m) + train_end\n",
        "    train = df.iloc[perm[:train_end]]\n",
        "    validate = df.iloc[perm[train_end:validate_end]]\n",
        "    test = df.iloc[perm[validate_end:]]\n",
        "    return train, validate, test\n",
        "\n"
      ],
      "execution_count": null,
      "outputs": []
    },
    {
      "cell_type": "code",
      "metadata": {
        "id": "JQsfc4xOxyTl"
      },
      "source": [
        "ids = list(range(0,len(scores)))\n",
        "tweetsDf = pd.DataFrame({\"id\": ids, \"score\": scores})\n"
      ],
      "execution_count": null,
      "outputs": []
    },
    {
      "cell_type": "code",
      "metadata": {
        "id": "qwW5vg2ox7dt",
        "outputId": "4895e83a-36f8-4df8-fb69-f33364528edd",
        "colab": {
          "base_uri": "https://localhost:8080/",
          "height": 204
        }
      },
      "source": [
        "tweetsDf.head()"
      ],
      "execution_count": null,
      "outputs": [
        {
          "output_type": "execute_result",
          "data": {
            "text/html": [
              "<div>\n",
              "<style scoped>\n",
              "    .dataframe tbody tr th:only-of-type {\n",
              "        vertical-align: middle;\n",
              "    }\n",
              "\n",
              "    .dataframe tbody tr th {\n",
              "        vertical-align: top;\n",
              "    }\n",
              "\n",
              "    .dataframe thead th {\n",
              "        text-align: right;\n",
              "    }\n",
              "</style>\n",
              "<table border=\"1\" class=\"dataframe\">\n",
              "  <thead>\n",
              "    <tr style=\"text-align: right;\">\n",
              "      <th></th>\n",
              "      <th>id</th>\n",
              "      <th>score</th>\n",
              "    </tr>\n",
              "  </thead>\n",
              "  <tbody>\n",
              "    <tr>\n",
              "      <th>0</th>\n",
              "      <td>0</td>\n",
              "      <td>0</td>\n",
              "    </tr>\n",
              "    <tr>\n",
              "      <th>1</th>\n",
              "      <td>1</td>\n",
              "      <td>0</td>\n",
              "    </tr>\n",
              "    <tr>\n",
              "      <th>2</th>\n",
              "      <td>2</td>\n",
              "      <td>0</td>\n",
              "    </tr>\n",
              "    <tr>\n",
              "      <th>3</th>\n",
              "      <td>3</td>\n",
              "      <td>0</td>\n",
              "    </tr>\n",
              "    <tr>\n",
              "      <th>4</th>\n",
              "      <td>4</td>\n",
              "      <td>0</td>\n",
              "    </tr>\n",
              "  </tbody>\n",
              "</table>\n",
              "</div>"
            ],
            "text/plain": [
              "   id  score\n",
              "0   0      0\n",
              "1   1      0\n",
              "2   2      0\n",
              "3   3      0\n",
              "4   4      0"
            ]
          },
          "metadata": {
            "tags": []
          },
          "execution_count": 38
        }
      ]
    },
    {
      "cell_type": "code",
      "metadata": {
        "id": "ikVj8GHFk5Zt"
      },
      "source": [
        "train,validate,test = train_validate_test_split(tweetsDf, train_percent = 0.9, validate_percent = 0.05, seed = 50)"
      ],
      "execution_count": null,
      "outputs": []
    },
    {
      "cell_type": "code",
      "metadata": {
        "id": "tDR-P9kLBHV6",
        "outputId": "6bad8e1d-7921-4275-a4de-4748b2982536",
        "colab": {
          "base_uri": "https://localhost:8080/",
          "height": 34
        }
      },
      "source": [
        "trainIDs = list(train['id'])\n",
        "trainScores = list(train['score'])\n",
        "trainTweets = []\n",
        "for i in range(0,len(train)):\n",
        "  trainTweets.append(tweets[int(trainIDs[i])])\n",
        "  trainTweets[i].append(trainScores[i])\n",
        "print(trainTweets[0])"
      ],
      "execution_count": null,
      "outputs": [
        {
          "output_type": "stream",
          "text": [
            "['love', 'la', 'nice', 'home', 4]\n"
          ],
          "name": "stdout"
        }
      ]
    },
    {
      "cell_type": "code",
      "metadata": {
        "id": "ynIDOfqTMuiG",
        "outputId": "b7cd2dd5-9d24-4f64-f284-e9bac6553875",
        "colab": {
          "base_uri": "https://localhost:8080/",
          "height": 34
        }
      },
      "source": [
        "validateIDs = list(validate['id'])\n",
        "validateScores = list(validate['score'])\n",
        "validateTweets = []\n",
        "for i in range(0,len(validate)):\n",
        "  validateTweets.append(tweets[int(validateIDs[i])])\n",
        "  validateTweets[i].append(validateScores[i])\n",
        "print(validateTweets[130])"
      ],
      "execution_count": null,
      "outputs": [
        {
          "output_type": "stream",
          "text": [
            "['absolut', 'ador', 'name', 4]\n"
          ],
          "name": "stdout"
        }
      ]
    },
    {
      "cell_type": "code",
      "metadata": {
        "id": "Fqc2qdgTN2iy",
        "outputId": "c459a55f-6ca8-49f4-c617-f9ce70c84083",
        "colab": {
          "base_uri": "https://localhost:8080/",
          "height": 51
        }
      },
      "source": [
        "testIDs = list(test['id'])\n",
        "testScores = list(test['score'])\n",
        "testTweets = []\n",
        "for i in range(0,len(test)):\n",
        "  testTweets.append(tweets[int(testIDs[i])])\n",
        "  testTweets[i].append(testScores[i])\n",
        "print(testTweets[0])\n",
        "print(len(testTweets))"
      ],
      "execution_count": null,
      "outputs": [
        {
          "output_type": "stream",
          "text": [
            "['twitter', 'doesnt', 'amus', 'one', 'bit', 0]\n",
            "80000\n"
          ],
          "name": "stdout"
        }
      ]
    },
    {
      "cell_type": "code",
      "metadata": {
        "id": "YbFGdxsG7fHv"
      },
      "source": [
        "ids = list(range(0,len(scores)))\n",
        "tweetsDf = pd.DataFrame({\"id\": ids, \"score\": scores, \"tweets\" : tweets})"
      ],
      "execution_count": null,
      "outputs": []
    },
    {
      "cell_type": "code",
      "metadata": {
        "id": "q-lJZnSP7uam",
        "outputId": "3288b113-573e-4c97-f4d9-cf32b4760eac",
        "colab": {
          "base_uri": "https://localhost:8080/",
          "height": 34
        }
      },
      "source": [
        "train['tweets'][0]"
      ],
      "execution_count": null,
      "outputs": [
        {
          "output_type": "execute_result",
          "data": {
            "text/plain": [
              "['awww', 'that', 'bummer', 'shoulda', 'got', 'david', 'carr', 'third', 'day']"
            ]
          },
          "metadata": {
            "tags": []
          },
          "execution_count": 72
        }
      ]
    },
    {
      "cell_type": "code",
      "metadata": {
        "id": "whNde8gqC7mn"
      },
      "source": [
        "#Save twitter-train.csv\n",
        "with open(\"twitter-train.csv\", \"w\", newline=\"\") as f:\n",
        "    writer = csv.writer(f)\n",
        "    writer.writerows(trainTweets)"
      ],
      "execution_count": null,
      "outputs": []
    },
    {
      "cell_type": "code",
      "metadata": {
        "id": "pc0sKAVqNZEe"
      },
      "source": [
        "#Save twitter-validate.csv\n",
        "with open(\"twitter-validate.csv\", \"w\", newline=\"\") as f:\n",
        "    writer = csv.writer(f)\n",
        "    writer.writerows(validateTweets)"
      ],
      "execution_count": null,
      "outputs": []
    },
    {
      "cell_type": "code",
      "metadata": {
        "id": "5-oU-HYAOICG"
      },
      "source": [
        "#Save twitter-test.csv\n",
        "with open(\"twitter-test.csv\", \"w\", newline=\"\") as f:\n",
        "    writer = csv.writer(f)\n",
        "    writer.writerows(testTweets)"
      ],
      "execution_count": null,
      "outputs": []
    },
    {
      "cell_type": "markdown",
      "metadata": {
        "id": "I13vb980vYGG"
      },
      "source": [
        "# **Model Building**\n",
        "\n",
        "*   List item\n",
        "*   List item\n",
        "\n"
      ]
    },
    {
      "cell_type": "code",
      "metadata": {
        "id": "A0JR5qmQRck9"
      },
      "source": [
        "#Load Training Dataset\n",
        "trainTweetsFromDrive = drive.CreateFile({'id':\"1zQM0NqrAF9TqnEMlzf1YJ6Aj6H9Vlupi\"})\n",
        "trainTweetsFromDrive.GetContentFile(\"twitter-train.csv\")\n",
        "\n",
        "#Load Validation Dataset\n",
        "validateTweetsFromDrive = drive.CreateFile({'id':\"14-CsrQdXr3nG17zVkf2nB6ZsReSVXlGv\"})\n",
        "validateTweetsFromDrive.GetContentFile(\"twitter-validate.csv\")\n",
        "\n",
        "testTweetsFromDrive = drive.CreateFile({'id':\"1QtV_Fv1DQpqOFfRbOatyIej7y-sJkx9x\"})\n",
        "testTweetsFromDrive.GetContentFile(\"twitter-test.csv\")\n",
        "\n"
      ],
      "execution_count": null,
      "outputs": []
    },
    {
      "cell_type": "code",
      "metadata": {
        "id": "zIzPog9FXRgp",
        "outputId": "d9cf9e3f-e9be-4f09-b578-fc7cd82ca16c",
        "colab": {
          "base_uri": "https://localhost:8080/",
          "height": 122
        }
      },
      "source": [
        "#Load word2Vec Model\n",
        "word2VecFromDrive = drive.CreateFile({'id':\"1EgHkmSCftnyXc3oYt0lqrms0EcxPikdw\"})\n",
        "word2VecFromDrive.GetContentFile(\"twitter-word2Vecmodel.bin\")\n",
        "model = gensim.models.KeyedVectors.load_word2vec_format('twitter-word2Vecmodel.bin', binary = True)\n",
        "#Vocabulary of Word2Vec Model\n",
        "vocabulary = list(model.wv.vocab)\n",
        "print(len(vocabulary))"
      ],
      "execution_count": null,
      "outputs": [
        {
          "output_type": "stream",
          "text": [
            "/usr/local/lib/python3.6/dist-packages/smart_open/smart_open_lib.py:254: UserWarning: This function is deprecated, use smart_open.open instead. See the migration notes for details: https://github.com/RaRe-Technologies/smart_open/blob/master/README.rst#migrating-to-the-new-open-function\n",
            "  'See the migration notes for details: %s' % _MIGRATION_NOTES_URL\n"
          ],
          "name": "stderr"
        },
        {
          "output_type": "stream",
          "text": [
            "42468\n"
          ],
          "name": "stdout"
        },
        {
          "output_type": "stream",
          "text": [
            "/usr/local/lib/python3.6/dist-packages/ipykernel_launcher.py:6: DeprecationWarning: Call to deprecated `wv` (Attribute will be removed in 4.0.0, use self instead).\n",
            "  \n"
          ],
          "name": "stderr"
        }
      ]
    },
    {
      "cell_type": "code",
      "metadata": {
        "id": "A9fCRCaf1iwH"
      },
      "source": [
        " #Generator Function\n",
        "def generate_arrays_from_file_embedding(path, batchsize):\n",
        "    inputs = []\n",
        "    labels = []\n",
        "    batchcount = 0\n",
        "    while True:\n",
        "        with open(path) as f:\n",
        "            for line in f:\n",
        "                tweet = line.split(',')\n",
        "                score = int(tweet[len(tweet) - 1])\n",
        "                ids = []\n",
        "                i = 0\n",
        "                for i in range(0,len(tweet)):\n",
        "                  if(tweet[i] in words):\n",
        "                    ids.append(words.index(tweet[i]) + 1)\n",
        "                  else:\n",
        "                    ids.append(0)\n",
        "                for i in range(len(tweet),50):\n",
        "                  ids.append(0)\n",
        "                inputs.append(ids)\n",
        "                labels.append(int(score))\n",
        "                batchcount += 1\n",
        "                if batchcount >= batchsize:\n",
        "                  X = np.array(inputs)\n",
        "                  encoder = LabelEncoder()\n",
        "                  encoder.fit(labels)\n",
        "                  y = encoder.transform(labels)\n",
        "                  y.reshape(-1,1)\n",
        "                  yield (X, y)\n",
        "                  inputs = []\n",
        "                  labels = []\n",
        "                  batchcount = 0"
      ],
      "execution_count": null,
      "outputs": []
    },
    {
      "cell_type": "code",
      "metadata": {
        "id": "Ox151Gqd0hmV",
        "outputId": "64b85ec1-9b7f-45bf-f8b5-c813ec2e0d02",
        "colab": {
          "base_uri": "https://localhost:8080/",
          "height": 105
        }
      },
      "source": [
        "#Creating Embedding layer\n",
        "words = []\n",
        "for i in range(0,len(vocabulary)):\n",
        "  words.append(vocabulary[i])\n",
        "print(len(words))\n",
        "embedding_matrix = np.zeros((len(vocabulary)+1, 100))\n",
        "embedding_matrix[0] = np.zeros(100)\n",
        "i = 1\n",
        "for word in words:\n",
        "  embedding_matrix[i] = model.wv[word]\n",
        "  i = i+1\n",
        "print(embedding_matrix.shape)\n",
        "embedding_layer = Embedding(len(vocabulary)+1, 100, weights=[embedding_matrix], input_length=50, trainable = False)\n"
      ],
      "execution_count": null,
      "outputs": [
        {
          "output_type": "stream",
          "text": [
            "42468\n"
          ],
          "name": "stdout"
        },
        {
          "output_type": "stream",
          "text": [
            "/usr/local/lib/python3.6/dist-packages/ipykernel_launcher.py:10: DeprecationWarning: Call to deprecated `wv` (Attribute will be removed in 4.0.0, use self instead).\n",
            "  # Remove the CWD from sys.path while we load stuff.\n"
          ],
          "name": "stderr"
        },
        {
          "output_type": "stream",
          "text": [
            "(42469, 100)\n"
          ],
          "name": "stdout"
        }
      ]
    },
    {
      "cell_type": "code",
      "metadata": {
        "id": "lqAyC5HYH046"
      },
      "source": [
        "#Model Building\n",
        "tweetModel = Sequential()\n",
        "tweetModel.add(embedding_layer)\n",
        "tweetModel.add(LSTM(100, dropout=0.2, recurrent_dropout=0.2))\n",
        "tweetModel.add(Dense(32))\n",
        "tweetModel.add(Dense(1, activation='sigmoid'))"
      ],
      "execution_count": null,
      "outputs": []
    },
    {
      "cell_type": "code",
      "metadata": {
        "id": "bZeGbhtxJ-BG",
        "outputId": "19460135-650c-42f7-927d-5dd9c5d83cd5",
        "colab": {
          "base_uri": "https://localhost:8080/",
          "height": 119
        }
      },
      "source": [
        "#Get Pre Trained Model (Epochs 1 - 3)\n",
        "tweetModelFromDrive = drive.CreateFile({'id':\"1n-yCtSH7APojjmenRPA9jdmnxMgugg4E\"})\n",
        "tweetModelFromDrive.GetContentFile(\"tweetModel.zip\")\n",
        "!unzip \"tweetModel.zip\"\n",
        "tweetModel = keras.models.load_model('tweetModel')"
      ],
      "execution_count": null,
      "outputs": [
        {
          "output_type": "stream",
          "text": [
            "Archive:  tweetModel.zip\n",
            "   creating: tweetModel/assets/\n",
            "  inflating: tweetModel/saved_model.pb  \n",
            "   creating: tweetModel/variables/\n",
            "  inflating: tweetModel/variables/variables.data-00000-of-00001  \n",
            "  inflating: tweetModel/variables/variables.index  \n"
          ],
          "name": "stdout"
        }
      ]
    },
    {
      "cell_type": "code",
      "metadata": {
        "id": "g9IVkRZJ9iae",
        "outputId": "316474c0-785a-4587-d216-c8d024e6f0c2",
        "colab": {
          "base_uri": "https://localhost:8080/",
          "height": 119
        }
      },
      "source": [
        "#Get Pre Trained Model (Epochs 4 - 6)\n",
        "tweetModelFromDrive = drive.CreateFile({'id':\"1Vd5m8je-OA8vexNWmAbvG3eSVAX2CqGt\"})\n",
        "tweetModelFromDrive.GetContentFile(\"tweetModel-II.zip\")\n",
        "!unzip \"tweetModel-II.zip\"\n",
        "tweetModel = keras.models.load_model('tweetFolder-II')"
      ],
      "execution_count": null,
      "outputs": [
        {
          "output_type": "stream",
          "text": [
            "Archive:  tweetModel-II.zip\n",
            "   creating: tweetFolder-II/assets/\n",
            "  inflating: tweetFolder-II/saved_model.pb  \n",
            "   creating: tweetFolder-II/variables/\n",
            "  inflating: tweetFolder-II/variables/variables.data-00000-of-00001  \n",
            "  inflating: tweetFolder-II/variables/variables.index  \n"
          ],
          "name": "stdout"
        }
      ]
    },
    {
      "cell_type": "code",
      "metadata": {
        "id": "OoZi0hzmaqco"
      },
      "source": [
        "#Compile Model\n",
        "tweetModel.compile(loss='binary_crossentropy',\n",
        "              optimizer=keras.optimizers.Adam(0.01),\n",
        "              metrics=['accuracy'])"
      ],
      "execution_count": null,
      "outputs": []
    },
    {
      "cell_type": "code",
      "metadata": {
        "id": "sU76EMUAarRK"
      },
      "source": [
        "#LR-Decay and Early Stopping\n",
        "callbacks = [ ReduceLROnPlateau(monitor='val_loss', patience=5, cooldown=0),\n",
        "              EarlyStopping(monitor='val_accuracy', min_delta=1e-4, patience=5)]"
      ],
      "execution_count": null,
      "outputs": []
    },
    {
      "cell_type": "markdown",
      "metadata": {
        "id": "WYq7p4i7u9WZ"
      },
      "source": [
        "# **Model Training**"
      ]
    },
    {
      "cell_type": "code",
      "metadata": {
        "id": "ok5PZqIuXpZf"
      },
      "source": [
        "#Train Model\n",
        "history = tweetModel.fit(generate_arrays_from_file_embedding(\"twitter-train.csv\",2048),\n",
        "                   steps_per_epoch = int(1440000 // 2048),\n",
        "                   epochs = 3,\n",
        "                   verbose = 1,\n",
        "                   validation_data = generate_arrays_from_file_embedding(\"twitter-validate.csv\",2048),\n",
        "                   validation_steps = int(80000 // 2048))"
      ],
      "execution_count": null,
      "outputs": []
    },
    {
      "cell_type": "code",
      "metadata": {
        "id": "8AK9CbA2ftTw",
        "outputId": "50fadc5c-cf5e-4421-b8e7-fb4ea50ddade",
        "colab": {
          "base_uri": "https://localhost:8080/",
          "height": 34
        }
      },
      "source": [
        "#Evaluate Model on Test Split\n",
        "testAcc = [0.8060, 0.8100]\n",
        "testLoss = [ 0.4261, 0.4245]\n",
        "testHistory = tweetModel.evaluate(generate_arrays_from_file_embedding(\"twitter-test.csv\",2048), steps = int(80000 // 2048), \n",
        "                   batch_size = 2048)"
      ],
      "execution_count": null,
      "outputs": [
        {
          "output_type": "stream",
          "text": [
            "39/39 [==============================] - 98s 3s/step - loss: 0.4459 - accuracy: 0.8076\n"
          ],
          "name": "stdout"
        }
      ]
    },
    {
      "cell_type": "code",
      "metadata": {
        "id": "jni-uUqSv0Ts"
      },
      "source": [
        "train_loss = [0.47171711921691895, 0.43796518445014954, 0.43237683176994324, 0.42316490411758423, 0.3978163003921509, 0.3839259445667267]\n",
        "train_accuracy = [0.7726040482521057, 0.7958921790122986, 0.7987655997276306, 0.8049854636192322, 0.8192185759544373, 0.8268192410469055]\n",
        "val_accuracy = [0.8014698624610901, 0.8061898946762085, 0.8076171875, 0.8099208474159241, 0.8117738366127014, 0.8114233016967773]\n",
        "val_loss = [0.42957398295402527, 0.4226222038269043, 0.4208592176437378, 0.4117220938205719, 0.41428062319755554, 0.41979989409446716]\n"
      ],
      "execution_count": null,
      "outputs": []
    },
    {
      "cell_type": "code",
      "metadata": {
        "id": "Hqt5YlW-ikgW",
        "outputId": "9a276942-2b1b-410b-e95e-dbd3a97e469f",
        "colab": {
          "base_uri": "https://localhost:8080/",
          "height": 295
        }
      },
      "source": [
        "#Plot Accuracy\n",
        "plt.plot(train_accuracy)\n",
        "plt.plot(val_accuracy)\n",
        "plt.title('model accuracy')\n",
        "plt.ylabel('accuracy')\n",
        "plt.xlabel('epoch')\n",
        "plt.legend(['train', 'val'], loc='upper left')\n",
        "plt.show()"
      ],
      "execution_count": null,
      "outputs": [
        {
          "output_type": "display_data",
          "data": {
            "image/png": "[encoded data removed]",
            "text/plain": [
              "<Figure size 432x288 with 1 Axes>"
            ]
          },
          "metadata": {
            "tags": [],
            "needs_background": "light"
          }
        }
      ]
    },
    {
      "cell_type": "code",
      "metadata": {
        "id": "wdc1gQhriz9t",
        "outputId": "c5f0f376-472e-425f-e99d-38ab314d5a55",
        "colab": {
          "base_uri": "https://localhost:8080/",
          "height": 295
        }
      },
      "source": [
        "#Plot Loss\n",
        "plt.plot(train_loss)\n",
        "plt.plot(val_loss)\n",
        "plt.title('model loss')\n",
        "plt.ylabel('loss')\n",
        "plt.xlabel('epoch')\n",
        "plt.legend(['train', 'val'], loc='upper left')\n",
        "plt.show()"
      ],
      "execution_count": null,
      "outputs": [
        {
          "output_type": "display_data",
          "data": {
            "image/png": "[encoded data removed]",
            "text/plain": [
              "<Figure size 432x288 with 1 Axes>"
            ]
          },
          "metadata": {
            "tags": [],
            "needs_background": "light"
          }
        }
      ]
    },
    {
      "cell_type": "markdown",
      "metadata": {
        "id": "9A78m3BawDfE"
      },
      "source": [
        "\n",
        "\n",
        "```\n",
        "# This is formatted as code\n",
        "```\n",
        "\n",
        "# **Prediction**"
      ]
    },
    {
      "cell_type": "code",
      "metadata": {
        "id": "jtbHk2SwtH-k"
      },
      "source": [
        "#Function to predict the Sentiment of given Tweet\n",
        "def predictTweet(tweet):\n",
        "  tweet = re.sub('@[^\\s]+','',tweet)\n",
        "  tweet = re.sub('http[^\\s]+','',tweet)\n",
        "  tweet = tweet.translate(str.maketrans('', '', string.punctuation))\n",
        "  tweet = tweet.lower()\n",
        "  tweet = re.sub(\" \\d+\", \"\", tweet)\n",
        "  tweet = tweet.split()\n",
        "  stop_words = set(stopwords.words('english')) \n",
        "  stop_words.add(\"im\")\n",
        "  stop_words.remove(\"no\")\n",
        "  stop_words.remove(\"against\")\n",
        "  stop_words.remove(\"not\")\n",
        "  stop_words.remove(\"don\")\n",
        "  filtered_tweet = []\n",
        "  for word in tweet:\n",
        "    if(word not in stop_words):\n",
        "      filtered_tweet.append(word)\n",
        "  tweet = filtered_tweet\n",
        "  filtered_tweet = []\n",
        "  ps = PorterStemmer() \n",
        "  for word in tweet:\n",
        "    filtered_tweet.append(ps.stem(word))\n",
        "  tweet = filtered_tweet\n",
        "  ids = []\n",
        "  i = 0\n",
        "  for i in range(0,len(tweet)):\n",
        "    if(tweet[i] in words):\n",
        "      ids.append(words.index(tweet[i]) + 1)\n",
        "    else:\n",
        "      ids.append(0)\n",
        "  for i in range(len(tweet),50):\n",
        "      ids.append(0)\n",
        "  test = []\n",
        "  test.append(ids)\n",
        "  x = np.array(test)\n",
        "  result = tweetModel.predict(x)\n",
        "  if (result[0][0] < 0.5):\n",
        "    return (result[0][0], \"Negative\")\n",
        "  else:\n",
        "    return (result[0][0], \"Positive\")\n",
        "  "
      ],
      "execution_count": null,
      "outputs": []
    },
    {
      "cell_type": "code",
      "metadata": {
        "id": "5mlXjz1T0s3K",
        "outputId": "9063ec54-e5b1-4cb1-e05a-b838da30e136",
        "colab": {
          "base_uri": "https://localhost:8080/",
          "height": 34
        }
      },
      "source": [
        "print(predictTweet(\"Endgame was the best movie I have seen in years!!!\"))"
      ],
      "execution_count": null,
      "outputs": [
        {
          "output_type": "stream",
          "text": [
            "(0.9427279, 'Positive')\n"
          ],
          "name": "stdout"
        }
      ]
    },
    {
      "cell_type": "code",
      "metadata": {
        "id": "QgtlWxKMusDk",
        "outputId": "491868d9-db0b-48a2-8e40-7dea79bc8132",
        "colab": {
          "base_uri": "https://localhost:8080/",
          "height": 34
        }
      },
      "source": [
        "print(predictTweet(\"i dont like it\"))"
      ],
      "execution_count": null,
      "outputs": [
        {
          "output_type": "stream",
          "text": [
            "(0.07991418, 'Negative')\n"
          ],
          "name": "stdout"
        }
      ]
    },
    {
      "cell_type": "code",
      "metadata": {
        "id": "f2p7Hw4u061J",
        "outputId": "b8590a77-1a65-477e-c20c-9ddb4acfd222",
        "colab": {
          "base_uri": "https://localhost:8080/",
          "height": 34
        }
      },
      "source": [
        "print(predictTweet(\"its really not bad\"))"
      ],
      "execution_count": null,
      "outputs": [
        {
          "output_type": "stream",
          "text": [
            "(0.8137139, 'Positive')\n"
          ],
          "name": "stdout"
        }
      ]
    },
    {
      "cell_type": "code",
      "metadata": {
        "id": "n2WfRqq81D-T",
        "outputId": "c093c82d-1835-41ac-f4b6-2624b993e6a3",
        "colab": {
          "base_uri": "https://localhost:8080/",
          "height": 34
        }
      },
      "source": [
        "print(predictTweet(\"its really not good\"))"
      ],
      "execution_count": null,
      "outputs": [
        {
          "output_type": "stream",
          "text": [
            "(0.011000335, 'Negative')\n"
          ],
          "name": "stdout"
        }
      ]
    },
    {
      "cell_type": "code",
      "metadata": {
        "id": "KhCeASF13K4p",
        "outputId": "cdd0b510-ba74-468b-b8df-590448864ec8",
        "colab": {
          "base_uri": "https://localhost:8080/",
          "height": 34
        }
      },
      "source": [
        "print(predictTweet(\"very bad ambience..but very good service..i really loved the food\"))"
      ],
      "execution_count": null,
      "outputs": [
        {
          "output_type": "stream",
          "text": [
            "(0.662084, 'Positive')\n"
          ],
          "name": "stdout"
        }
      ]
    },
    {
      "cell_type": "code",
      "metadata": {
        "id": "Q2ge4U-N3Xlc",
        "outputId": "d917b17f-be86-426b-a7f4-dbbe21b29ed8",
        "colab": {
          "base_uri": "https://localhost:8080/",
          "height": 34
        }
      },
      "source": [
        "print(predictTweet(\"it was amazing for the first few days..but it was really bad during last few days.\"))"
      ],
      "execution_count": null,
      "outputs": [
        {
          "output_type": "stream",
          "text": [
            "(0.030757934, 'Negative')\n"
          ],
          "name": "stdout"
        }
      ]
    },
    {
      "cell_type": "code",
      "metadata": {
        "id": "4nIhFbAx16yZ",
        "outputId": "979485db-e33f-476f-d67b-213eb88c121b",
        "colab": {
          "base_uri": "https://localhost:8080/",
          "height": 34
        }
      },
      "source": [
        "print(predictTweet(\"initially i thought it would be bad..but i found it to be the best\"))"
      ],
      "execution_count": null,
      "outputs": [
        {
          "output_type": "stream",
          "text": [
            "(0.8982426, 'Positive')\n"
          ],
          "name": "stdout"
        }
      ]
    },
    {
      "cell_type": "code",
      "metadata": {
        "id": "l5qdir-0ksMm",
        "outputId": "c850ccae-e37e-490b-af56-bd6c81f3b13d",
        "colab": {
          "base_uri": "https://localhost:8080/",
          "height": 34
        }
      },
      "source": [
        "print(predictTweet(\"initially i thought it was the best..but i found it to be bad\"))"
      ],
      "execution_count": null,
      "outputs": [
        {
          "output_type": "stream",
          "text": [
            "(0.12912095, 'Negative')\n"
          ],
          "name": "stdout"
        }
      ]
    },
    {
      "cell_type": "code",
      "metadata": {
        "id": "iJc9TVki2O40",
        "outputId": "cb51684f-8fcd-4311-852d-1532c4d48874",
        "colab": {
          "base_uri": "https://localhost:8080/",
          "height": 34
        }
      },
      "source": [
        "print(predictTweet(\"initially i thought it would be a great dish ..but i found it to be the worst dish I have ever eaten\"))"
      ],
      "execution_count": null,
      "outputs": [
        {
          "output_type": "stream",
          "text": [
            "(0.12941921, 'Negative')\n"
          ],
          "name": "stdout"
        }
      ]
    },
    {
      "cell_type": "markdown",
      "metadata": {
        "id": "rT_FsyACdAFh"
      },
      "source": [
        "# **Saving Model**"
      ]
    },
    {
      "cell_type": "code",
      "metadata": {
        "id": "5GYgyKQldL2d",
        "outputId": "4ad2b071-caf5-4e84-951a-e91532ac5bac",
        "colab": {
          "base_uri": "https://localhost:8080/",
          "height": 34
        }
      },
      "source": [
        "tweetModel.save('tweetModel-II')"
      ],
      "execution_count": null,
      "outputs": [
        {
          "output_type": "stream",
          "text": [
            "INFO:tensorflow:Assets written to: tweetModel-II/assets\n"
          ],
          "name": "stdout"
        }
      ]
    }
  ]
}